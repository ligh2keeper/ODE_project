{
 "cells": [
  {
   "cell_type": "code",
   "execution_count": 1,
   "id": "ec3c8294",
   "metadata": {
    "execution": {
     "iopub.execute_input": "2023-10-03T22:37:24.303036Z",
     "iopub.status.busy": "2023-10-03T22:37:24.302719Z",
     "iopub.status.idle": "2023-10-03T22:37:24.311354Z",
     "shell.execute_reply": "2023-10-03T22:37:24.310522Z",
     "shell.execute_reply.started": "2023-10-03T22:37:24.303010Z"
    }
   },
   "outputs": [],
   "source": [
    "import sys\n",
    "sys.path.append('/kaggle/input/ode1-task/')"
   ]
  },
  {
   "cell_type": "code",
   "execution_count": 2,
   "id": "d6735a4b",
   "metadata": {
    "execution": {
     "iopub.execute_input": "2023-10-03T22:37:26.921690Z",
     "iopub.status.busy": "2023-10-03T22:37:26.921045Z",
     "iopub.status.idle": "2023-10-03T22:37:29.879061Z",
     "shell.execute_reply": "2023-10-03T22:37:29.878179Z",
     "shell.execute_reply.started": "2023-10-03T22:37:26.921659Z"
    }
   },
   "outputs": [],
   "source": [
    "from torch.utils.data import DataLoader\n",
    "from dataset import DiffeqDataset\n",
    "from model import *\n",
    "import torch\n",
    "import pickle\n",
    "from IPython.display import clear_output\n",
    "import time\n",
    "from tqdm import trange, tqdm\n",
    "import numpy as np\n",
    "import matplotlib.pyplot as plt\n",
    "import torch.nn as nn"
   ]
  },
  {
   "cell_type": "code",
   "execution_count": 3,
   "id": "55411e51",
   "metadata": {
    "execution": {
     "iopub.execute_input": "2023-10-03T22:37:32.446435Z",
     "iopub.status.busy": "2023-10-03T22:37:32.445744Z",
     "iopub.status.idle": "2023-10-03T22:37:32.450951Z",
     "shell.execute_reply": "2023-10-03T22:37:32.449990Z",
     "shell.execute_reply.started": "2023-10-03T22:37:32.446406Z"
    }
   },
   "outputs": [],
   "source": [
    "def create_data_iterator(train, batch_size, path):\n",
    "       \n",
    "        dataset = DiffeqDataset(train, batch_size, path)\n",
    "    \n",
    "        return DataLoader(dataset,\n",
    "                          batch_size=batch_size,\n",
    "                          shuffle=True,\n",
    "                          collate_fn=dataset.collate_fn\n",
    "        )"
   ]
  },
  {
   "cell_type": "code",
   "execution_count": 4,
   "id": "ca655491",
   "metadata": {
    "execution": {
     "iopub.execute_input": "2023-10-03T22:37:36.044265Z",
     "iopub.status.busy": "2023-10-03T22:37:36.043950Z",
     "iopub.status.idle": "2023-10-03T22:37:36.050731Z",
     "shell.execute_reply": "2023-10-03T22:37:36.049527Z",
     "shell.execute_reply.started": "2023-10-03T22:37:36.044241Z"
    }
   },
   "outputs": [],
   "source": [
    "def make_model(device, vocab_size, pad_idx, N=6, \n",
    "               d_model=512, d_ff=2048, h=8, dropout=0.1):\n",
    "    c = copy.deepcopy\n",
    "    attn = MultiHeadAttention(h, d_model, dropout, device)\n",
    "    ff = PositionwiseFeedForward(d_model, d_ff, dropout)\n",
    "    position = PositionalEncoding(d_model, dropout)\n",
    "    emb = nn.Sequential(Embeddings(d_model, vocab_size, device), position)\n",
    "    model = Seq2Seq(\n",
    "        Encoder(EncoderLayer(d_model, c(attn), c(ff), dropout), N),\n",
    "        Decoder(d_model, vocab_size, DecoderLayer(d_model, c(attn), c(attn), c(ff), dropout), N),\n",
    "        emb, \n",
    "        emb,\n",
    "        pad_idx,\n",
    "        device\n",
    "    )\n",
    "    \n",
    "    for p in model.parameters():\n",
    "        if p.dim() > 1:\n",
    "            nn.init.xavier_uniform_(p)\n",
    "    return model"
   ]
  },
  {
   "cell_type": "code",
   "execution_count": 5,
   "id": "876f7374",
   "metadata": {
    "execution": {
     "iopub.execute_input": "2023-10-03T22:37:40.651697Z",
     "iopub.status.busy": "2023-10-03T22:37:40.651274Z",
     "iopub.status.idle": "2023-10-03T22:37:40.680299Z",
     "shell.execute_reply": "2023-10-03T22:37:40.679173Z",
     "shell.execute_reply.started": "2023-10-03T22:37:40.651665Z"
    }
   },
   "outputs": [
    {
     "data": {
      "text/plain": [
       "device(type='cuda')"
      ]
     },
     "execution_count": 5,
     "metadata": {},
     "output_type": "execute_result"
    }
   ],
   "source": [
    "DEVICE = torch.device('cuda' if torch.cuda.is_available() else 'cpu')\n",
    "DEVICE"
   ]
  },
  {
   "cell_type": "code",
   "execution_count": 7,
   "id": "7568488e",
   "metadata": {
    "execution": {
     "iopub.execute_input": "2023-10-03T22:37:49.143031Z",
     "iopub.status.busy": "2023-10-03T22:37:49.142008Z",
     "iopub.status.idle": "2023-10-03T22:37:49.147338Z",
     "shell.execute_reply": "2023-10-03T22:37:49.146520Z",
     "shell.execute_reply.started": "2023-10-03T22:37:49.142990Z"
    }
   },
   "outputs": [],
   "source": [
    "DATA_PATH = '/kaggle/input/ode1-dataset'"
   ]
  },
  {
   "cell_type": "code",
   "execution_count": 8,
   "id": "d45a0fff",
   "metadata": {
    "execution": {
     "iopub.execute_input": "2023-10-03T22:37:52.221177Z",
     "iopub.status.busy": "2023-10-03T22:37:52.220850Z",
     "iopub.status.idle": "2023-10-03T22:37:52.233847Z",
     "shell.execute_reply": "2023-10-03T22:37:52.232787Z",
     "shell.execute_reply.started": "2023-10-03T22:37:52.221153Z"
    }
   },
   "outputs": [],
   "source": [
    "with open(DATA_PATH + '/vocabulary', \"rb\") as f:\n",
    "    vocab = pickle.load(f)\n",
    "    token2id = vocab['token2id']\n",
    "    id2token = vocab['id2token']"
   ]
  },
  {
   "cell_type": "code",
   "execution_count": 9,
   "id": "314d7779",
   "metadata": {
    "execution": {
     "iopub.execute_input": "2023-10-03T22:37:56.781672Z",
     "iopub.status.busy": "2023-10-03T22:37:56.781330Z",
     "iopub.status.idle": "2023-10-03T22:37:56.786727Z",
     "shell.execute_reply": "2023-10-03T22:37:56.785394Z",
     "shell.execute_reply.started": "2023-10-03T22:37:56.781639Z"
    }
   },
   "outputs": [],
   "source": [
    "VOCAB_SIZE = len(token2id)\n",
    "N_LAYERS = 6\n",
    "D_MODEL = 256\n",
    "D_FF = 1024\n",
    "N_HEADS = 8\n",
    "DROPOUT = 0.1\n",
    "PAD_IDX = token2id['<pad>']\n",
    "BATCH_SIZE = 64"
   ]
  },
  {
   "cell_type": "code",
   "execution_count": 10,
   "id": "56229fa8",
   "metadata": {
    "execution": {
     "iopub.execute_input": "2023-10-03T22:38:00.125083Z",
     "iopub.status.busy": "2023-10-03T22:38:00.124759Z",
     "iopub.status.idle": "2023-10-03T22:38:18.651444Z",
     "shell.execute_reply": "2023-10-03T22:38:18.650528Z",
     "shell.execute_reply.started": "2023-10-03T22:38:00.125057Z"
    }
   },
   "outputs": [],
   "source": [
    "train_iterator = create_data_iterator(train=True, batch_size=BATCH_SIZE, path=DATA_PATH)\n",
    "test_iterator = create_data_iterator(train=False, batch_size=BATCH_SIZE, path=DATA_PATH)"
   ]
  },
  {
   "cell_type": "code",
   "execution_count": 11,
   "id": "1d0b897c",
   "metadata": {
    "execution": {
     "iopub.execute_input": "2023-10-03T22:38:19.765646Z",
     "iopub.status.busy": "2023-10-03T22:38:19.765265Z",
     "iopub.status.idle": "2023-10-03T22:38:22.788730Z",
     "shell.execute_reply": "2023-10-03T22:38:22.787559Z",
     "shell.execute_reply.started": "2023-10-03T22:38:19.765598Z"
    }
   },
   "outputs": [],
   "source": [
    "model = make_model(DEVICE, VOCAB_SIZE, PAD_IDX, N_LAYERS, \n",
    "               D_MODEL, D_FF, N_HEADS, DROPOUT).to(DEVICE)"
   ]
  },
  {
   "cell_type": "code",
   "execution_count": 12,
   "id": "c9b98505",
   "metadata": {
    "execution": {
     "iopub.execute_input": "2023-10-03T22:38:33.359027Z",
     "iopub.status.busy": "2023-10-03T22:38:33.358063Z",
     "iopub.status.idle": "2023-10-03T22:38:34.100961Z",
     "shell.execute_reply": "2023-10-03T22:38:34.100038Z",
     "shell.execute_reply.started": "2023-10-03T22:38:33.358984Z"
    }
   },
   "outputs": [
    {
     "data": {
      "text/plain": [
       "<All keys matched successfully>"
      ]
     },
     "execution_count": 12,
     "metadata": {},
     "output_type": "execute_result"
    }
   ],
   "source": [
    "model.load_state_dict(torch.load('/kaggle/input/transformer-epoch-6/transformer_6.pt', map_location=DEVICE))"
   ]
  },
  {
   "cell_type": "code",
   "execution_count": 12,
   "id": "914b3bfd",
   "metadata": {
    "execution": {
     "iopub.execute_input": "2023-10-02T21:51:18.276219Z",
     "iopub.status.busy": "2023-10-02T21:51:18.275878Z",
     "iopub.status.idle": "2023-10-02T21:51:18.282680Z",
     "shell.execute_reply": "2023-10-02T21:51:18.281764Z",
     "shell.execute_reply.started": "2023-10-02T21:51:18.276166Z"
    }
   },
   "outputs": [
    {
     "name": "stdout",
     "output_type": "stream",
     "text": [
      "Total params:  11092543\n"
     ]
    }
   ],
   "source": [
    "print('Total params: ', sum(p.numel() for p in model.parameters() if p.requires_grad))"
   ]
  },
  {
   "cell_type": "code",
   "execution_count": 14,
   "id": "ea799052",
   "metadata": {
    "execution": {
     "iopub.execute_input": "2023-10-02T21:52:01.356328Z",
     "iopub.status.busy": "2023-10-02T21:52:01.355985Z",
     "iopub.status.idle": "2023-10-02T21:52:01.362285Z",
     "shell.execute_reply": "2023-10-02T21:52:01.361249Z",
     "shell.execute_reply.started": "2023-10-02T21:52:01.356299Z"
    }
   },
   "outputs": [
    {
     "data": {
      "text/plain": [
       "35047"
      ]
     },
     "execution_count": 14,
     "metadata": {},
     "output_type": "execute_result"
    }
   ],
   "source": [
    "len(train_iterator)"
   ]
  },
  {
   "cell_type": "code",
   "execution_count": 13,
   "id": "3f89f05f",
   "metadata": {
    "execution": {
     "iopub.execute_input": "2023-10-03T22:38:39.640887Z",
     "iopub.status.busy": "2023-10-03T22:38:39.639951Z",
     "iopub.status.idle": "2023-10-03T22:38:39.648050Z",
     "shell.execute_reply": "2023-10-03T22:38:39.646747Z",
     "shell.execute_reply.started": "2023-10-03T22:38:39.640853Z"
    }
   },
   "outputs": [],
   "source": [
    "class NoamOpt:\n",
    "    def __init__(self, model_size, factor, warmup, optimizer):\n",
    "        self.optimizer = optimizer\n",
    "        self._step = 0\n",
    "        self.warmup = warmup\n",
    "        self.factor = factor\n",
    "        self.model_size = model_size\n",
    "        self._rate = 0\n",
    "        \n",
    "    def step(self):\n",
    "        self._step += 1\n",
    "        rate = self.rate()\n",
    "        for p in self.optimizer.param_groups:\n",
    "            p['lr'] = rate\n",
    "        self._rate = rate\n",
    "        self.optimizer.step()\n",
    "        \n",
    "    def rate(self, step = None):\n",
    "        if step is None:\n",
    "            step = self._step\n",
    "        return self.factor * \\\n",
    "            (self.model_size ** (-0.5) *\n",
    "            min(step ** (-0.5), step * self.warmup ** (-1.5)))"
   ]
  },
  {
   "cell_type": "code",
   "execution_count": 14,
   "id": "357bfca8",
   "metadata": {
    "execution": {
     "iopub.execute_input": "2023-10-03T22:38:43.859930Z",
     "iopub.status.busy": "2023-10-03T22:38:43.859600Z",
     "iopub.status.idle": "2023-10-03T22:38:43.865556Z",
     "shell.execute_reply": "2023-10-03T22:38:43.864270Z",
     "shell.execute_reply.started": "2023-10-03T22:38:43.859905Z"
    }
   },
   "outputs": [],
   "source": [
    "def get_opt(model):\n",
    "    return NoamOpt(model.src_embed[0].d_model, 1, 4000,\n",
    "            torch.optim.Adam(model.parameters(), lr=0, betas=(0.9, 0.98), eps=1e-9))"
   ]
  },
  {
   "cell_type": "code",
   "execution_count": 15,
   "id": "96b7c9ca",
   "metadata": {
    "execution": {
     "iopub.execute_input": "2023-10-03T22:38:47.913458Z",
     "iopub.status.busy": "2023-10-03T22:38:47.913140Z",
     "iopub.status.idle": "2023-10-03T22:38:47.919179Z",
     "shell.execute_reply": "2023-10-03T22:38:47.918033Z",
     "shell.execute_reply.started": "2023-10-03T22:38:47.913432Z"
    }
   },
   "outputs": [],
   "source": [
    "LEARNING_RATE = 2e-4\n",
    "\n",
    "#optimizer = torch.optim.Adam(model.parameters(), lr=LEARNING_RATE)\n",
    "optimizer = get_opt(model)"
   ]
  },
  {
   "cell_type": "code",
   "execution_count": 17,
   "id": "2b355668",
   "metadata": {
    "execution": {
     "iopub.execute_input": "2023-10-03T22:39:23.141762Z",
     "iopub.status.busy": "2023-10-03T22:39:23.140761Z",
     "iopub.status.idle": "2023-10-03T22:39:23.146387Z",
     "shell.execute_reply": "2023-10-03T22:39:23.145551Z",
     "shell.execute_reply.started": "2023-10-03T22:39:23.141720Z"
    }
   },
   "outputs": [],
   "source": [
    "criterion = nn.CrossEntropyLoss(ignore_index=PAD_IDX)"
   ]
  },
  {
   "cell_type": "code",
   "execution_count": 18,
   "id": "77b33985",
   "metadata": {
    "execution": {
     "iopub.execute_input": "2023-10-03T22:39:25.772370Z",
     "iopub.status.busy": "2023-10-03T22:39:25.771367Z",
     "iopub.status.idle": "2023-10-03T22:39:25.779711Z",
     "shell.execute_reply": "2023-10-03T22:39:25.778820Z",
     "shell.execute_reply.started": "2023-10-03T22:39:25.772331Z"
    }
   },
   "outputs": [],
   "source": [
    "def train(model, iterator, optimizer, criterion, clip):\n",
    "    model.train()\n",
    "    num_batches = len(iterator)\n",
    "    epoch_loss = 0\n",
    "    for batch, (xx, yy) in tqdm(enumerate(iterator)):\n",
    "        src, trg = xx.to(DEVICE), yy.to(DEVICE)\n",
    "        optimizer.optimizer.zero_grad()\n",
    "        output = model(src, trg[:,:-1])\n",
    "        output_dim = output.shape[-1]\n",
    "        output = output.contiguous().view(-1, output_dim)\n",
    "        trg = trg[:,1:].contiguous().view(-1)\n",
    "        loss = criterion(output, trg)\n",
    "        loss.backward()\n",
    "        torch.nn.utils.clip_grad_norm_(model.parameters(), clip)\n",
    "        optimizer.step()\n",
    "        if batch % interval == 0:\n",
    "            t = epoch + (batch + 1)/num_batches\n",
    "            train_ts.append(t)\n",
    "            train_loss.append(loss.item())\n",
    "            show_progress(t)"
   ]
  },
  {
   "cell_type": "code",
   "execution_count": 19,
   "id": "184bed2f",
   "metadata": {
    "execution": {
     "iopub.execute_input": "2023-10-03T22:39:28.775612Z",
     "iopub.status.busy": "2023-10-03T22:39:28.775273Z",
     "iopub.status.idle": "2023-10-03T22:39:28.781786Z",
     "shell.execute_reply": "2023-10-03T22:39:28.780842Z",
     "shell.execute_reply.started": "2023-10-03T22:39:28.775585Z"
    }
   },
   "outputs": [],
   "source": [
    "def evaluate(model, iterator, criterion):\n",
    "    model.eval()\n",
    "    num_batches = len(iterator)\n",
    "    test_loss = 0\n",
    "    with torch.no_grad():\n",
    "        for xx, yy in tqdm(iterator):\n",
    "            src, trg = xx.to(DEVICE), yy.to(DEVICE)\n",
    "            output = model(src, trg[:,:-1])\n",
    "            output_dim = output.shape[-1]\n",
    "            output = output.contiguous().view(-1, output_dim)\n",
    "            trg = trg[:,1:].contiguous().view(-1)\n",
    "            loss = criterion(output, trg)\n",
    "            test_loss += loss.item()\n",
    "    test_loss /= num_batches\n",
    "    val_ts.append(epoch+1)\n",
    "    val_loss.append(test_loss)\n",
    "    show_progress(epoch+1)"
   ]
  },
  {
   "cell_type": "code",
   "execution_count": 20,
   "id": "20192997",
   "metadata": {
    "execution": {
     "iopub.execute_input": "2023-10-03T22:39:31.888135Z",
     "iopub.status.busy": "2023-10-03T22:39:31.887776Z",
     "iopub.status.idle": "2023-10-03T22:39:31.893359Z",
     "shell.execute_reply": "2023-10-03T22:39:31.892327Z",
     "shell.execute_reply.started": "2023-10-03T22:39:31.888108Z"
    }
   },
   "outputs": [],
   "source": [
    "def show_progress(t):\n",
    "    clear_output(wait=True)\n",
    "    fig = plt.figure(figsize=(10, 6))\n",
    "    plt.title(f'Epoch {t:3.3f}', fontsize=16)\n",
    "    plt.xlabel('time (epochs)')\n",
    "    plt.ylabel('loss')\n",
    "    plt.plot(train_ts, train_loss, c='darkblue', lw=3)\n",
    "    plt.plot(val_ts, val_loss, c='green', marker='o', lw=5)\n",
    "    plt.show() "
   ]
  },
  {
   "cell_type": "code",
   "execution_count": 21,
   "id": "079d274e",
   "metadata": {
    "execution": {
     "iopub.execute_input": "2023-10-03T22:39:53.892092Z",
     "iopub.status.busy": "2023-10-03T22:39:53.891621Z",
     "iopub.status.idle": "2023-10-03T22:39:53.897420Z",
     "shell.execute_reply": "2023-10-03T22:39:53.896544Z",
     "shell.execute_reply.started": "2023-10-03T22:39:53.892050Z"
    }
   },
   "outputs": [],
   "source": [
    "N_EPOCHS = 10\n",
    "interval = 100\n",
    "train_ts, train_loss = [], []\n",
    "val_ts, val_loss = [], []\n",
    "best_val_loss = float('inf')\n",
    "\n",
    "CLIP = 1"
   ]
  },
  {
   "cell_type": "code",
   "execution_count": null,
   "id": "bbf71b83",
   "metadata": {
    "execution": {
     "iopub.execute_input": "2023-10-03T22:44:23.505105Z",
     "iopub.status.busy": "2023-10-03T22:44:23.504780Z"
    }
   },
   "outputs": [
    {
     "data": {
      "image/png": "[encoded data removed]",
      "text/plain": [
       "<Figure size 1000x600 with 1 Axes>"
      ]
     },
     "metadata": {},
     "output_type": "display_data"
    },
    {
     "name": "stderr",
     "output_type": "stream",
     "text": [
      "1796it [08:47,  3.47it/s]"
     ]
    }
   ],
   "source": [
    "for epoch in range(N_EPOCHS):\n",
    "\n",
    "    start_time = time.time()\n",
    "    train(model, train_iterator, optimizer, criterion, CLIP)\n",
    "    evaluate(model, test_iterator, criterion)\n",
    "    end_time = time.time()\n",
    "    if val_loss[-1] < best_val_loss:\n",
    "        best_val_loss = val_loss[-1]\n",
    "        torch.save(model.state_dict(), f'transformer_{epoch+1}.pt')\n"
   ]
  }
 ],
 "metadata": {
  "kernelspec": {
   "display_name": "Python 3 (ipykernel)",
   "language": "python",
   "name": "python3"
  },
  "language_info": {
   "codemirror_mode": {
    "name": "ipython",
    "version": 3
   },
   "file_extension": ".py",
   "mimetype": "text/x-python",
   "name": "python",
   "nbconvert_exporter": "python",
   "pygments_lexer": "ipython3",
   "version": "3.11.5"
  }
 },
 "nbformat": 4,
 "nbformat_minor": 5
}
