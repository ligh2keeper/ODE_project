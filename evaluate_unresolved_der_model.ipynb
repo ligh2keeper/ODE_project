{
 "cells": [
  {
   "cell_type": "code",
   "execution_count": 1,
   "id": "2af29809-1aa5-43ef-babb-092ca91dc1b2",
   "metadata": {},
   "outputs": [],
   "source": [
    "import pickle\n",
    "from src.expressions_generator import ExpressionGenerator\n",
    "from src.evaluate import make_model, Evaluator\n",
    "import torch\n",
    "from torch.utils.data import DataLoader\n",
    "from src.dataset import DiffeqDataset\n",
    "import sympy as sp\n",
    "import numpy as np\n",
    "from tqdm import tqdm"
   ]
  },
  {
   "cell_type": "code",
   "execution_count": 9,
   "id": "871af2c2-7538-467a-bd02-efd891f27645",
   "metadata": {},
   "outputs": [],
   "source": [
    "def infix_eq_to_prefix_id(infix_expr):\n",
    "    sympy_expr = gen.infix_to_sympy(infix_expr)\n",
    "    prefix_expr = gen.sympy_to_prefix(sympy_expr)\n",
    "    prefix_expr = gen.replace_f_by_y(prefix_expr)\n",
    "    prefix_id = [token2id['<s>']] + [token2id[tok] for tok in prefix_expr] + [token2id['</s>']]\n",
    "    return sympy_expr, prefix_id"
   ]
  },
  {
   "cell_type": "code",
   "execution_count": 10,
   "id": "abd4b4bd-f84b-4220-abbe-77dcc114cf91",
   "metadata": {},
   "outputs": [],
   "source": [
    "def solution_to_sympy(prefix_sol):\n",
    "    prefix_sol = [id2token[i] for i in prefix_sol]\n",
    "    x_prefix = []\n",
    "    y_prefix = []\n",
    "    try:\n",
    "        sep_id = prefix_sol.index('end_x_start_y')\n",
    "    except:\n",
    "        print('Solution is incorrect')\n",
    "    x_prefix = prefix_sol[:sep_id]\n",
    "    y_prefix = prefix_sol[sep_id+1:]\n",
    "    x_t = gen.prefix_to_simpy(x_prefix)\n",
    "    y_t = gen.prefix_to_simpy(y_prefix)\n",
    "    return x_t, y_t"
   ]
  },
  {
   "cell_type": "code",
   "execution_count": 3,
   "id": "cd56105d-e3d5-49d8-925d-ac9faf874ade",
   "metadata": {},
   "outputs": [],
   "source": [
    "def create_data_iterator(train, batch_size, path):\n",
    "       \n",
    "        dataset = DiffeqDataset(train, batch_size, path)\n",
    "    \n",
    "        return DataLoader(dataset,\n",
    "                          batch_size=batch_size,\n",
    "                          shuffle=False,\n",
    "                          collate_fn=dataset.collate_fn\n",
    "        )"
   ]
  },
  {
   "cell_type": "markdown",
   "id": "208394b3-6a1c-48d7-9d68-565386d6f75e",
   "metadata": {},
   "source": [
    "## Опредление качества обученной модели"
   ]
  },
  {
   "cell_type": "code",
   "execution_count": 4,
   "id": "b87f0bee-8259-446a-a250-c2fc2d6e863f",
   "metadata": {},
   "outputs": [
    {
     "data": {
      "text/plain": [
       "device(type='cpu')"
      ]
     },
     "execution_count": 4,
     "metadata": {},
     "output_type": "execute_result"
    }
   ],
   "source": [
    "DATA_PATH = '/home/ilia/diff_eq_project/unresolved_der_dataset/'\n",
    "MODEL_PATH = '/home/ilia/diff_eq_project/unresolved_der_models/'\n",
    "\n",
    "with open(DATA_PATH + '/vocabulary', \"rb\") as f:\n",
    "    vocab = pickle.load(f)\n",
    "    token2id = vocab['token2id']\n",
    "    id2token = vocab['id2token']\n",
    "    \n",
    "VOCAB_SIZE = len(token2id)\n",
    "N_LAYERS = 6\n",
    "D_MODEL = 256\n",
    "D_FF = 1024\n",
    "N_HEADS = 8\n",
    "DROPOUT = 0.1\n",
    "PAD_IDX = token2id['<pad>']\n",
    "BATCH_SIZE = 64\n",
    "DEVICE = torch.device('cuda' if torch.cuda.is_available() else 'cpu')\n",
    "DEVICE"
   ]
  },
  {
   "cell_type": "markdown",
   "id": "8421961c-8316-4bb6-ab6d-909d3532e659",
   "metadata": {},
   "source": [
    "Загружаем лучшую обученную модель:"
   ]
  },
  {
   "cell_type": "code",
   "execution_count": 5,
   "id": "addf596e-692d-46e2-8eae-3f17d4f98718",
   "metadata": {},
   "outputs": [],
   "source": [
    "model = make_model(DEVICE, VOCAB_SIZE, PAD_IDX, N_LAYERS, \n",
    "               D_MODEL, D_FF, N_HEADS, DROPOUT).to(DEVICE)\n",
    "model.load_state_dict(torch.load(MODEL_PATH + 'transformer_8.pt', map_location=torch.device('cpu')))\n",
    "model.eval();"
   ]
  },
  {
   "cell_type": "code",
   "execution_count": 6,
   "id": "dc286ff0-06f4-41a4-8503-8fa2ba5fa029",
   "metadata": {},
   "outputs": [],
   "source": [
    "gen = ExpressionGenerator()\n",
    "evaluator = Evaluator(model, DEVICE, vocab)"
   ]
  },
  {
   "cell_type": "code",
   "execution_count": 7,
   "id": "17cd9d22-be8f-4739-bcfb-38d00dae7d3a",
   "metadata": {},
   "outputs": [],
   "source": [
    "test_dataset = DiffeqDataset(train=False, batch_size=64, path=DATA_PATH)"
   ]
  },
  {
   "cell_type": "code",
   "execution_count": 13,
   "id": "3c3b147d-2447-434e-9a88-5e3d332a3731",
   "metadata": {},
   "outputs": [],
   "source": [
    "x = gen.vars['x']\n",
    "y = gen.vars['y']\n",
    "t = gen.vars['t']\n",
    "f = gen.functions['f']\n",
    "c = gen.coef['C1']"
   ]
  },
  {
   "cell_type": "markdown",
   "id": "7fdb4d32-b0a3-451e-8ffa-e8f0002d0fdb",
   "metadata": {},
   "source": [
    "Выберем некоторое количество уравнений из тестового датасета и посчитаем долю правильно решенных моделью уравнений:"
   ]
  },
  {
   "cell_type": "code",
   "execution_count": 21,
   "id": "bb2227d6-1362-49e1-8f7d-7b7dc7a9925e",
   "metadata": {},
   "outputs": [],
   "source": [
    "check_sample = np.random.choice(len(test_dataset), size=500, replace=False)"
   ]
  },
  {
   "cell_type": "code",
   "execution_count": 22,
   "id": "15944f49-a749-4e8c-b8c1-c4c37530015e",
   "metadata": {},
   "outputs": [
    {
     "name": "stderr",
     "output_type": "stream",
     "text": [
      "100%|█████████████████████████████████████████████████████████████████████████████████████████████████████████████████████████████████████████████████████████████████████████████████████████████████████| 500/500 [20:30<00:00,  2.46s/it]\n"
     ]
    }
   ],
   "source": [
    "count_right_solutions = 0\n",
    "for i in tqdm(check_sample):\n",
    "    prefix_eq_int = [int(id_token) for id_token in test_dataset[i][0]]\n",
    "    prefix_sol_int = [int(id_token) for id_token in test_dataset[i][1]]\n",
    "    try:\n",
    "        beam_res, _, _ = evaluator.beam_decode(prefix_eq_int, beam_size=5, alpha=1)\n",
    "        x_t, y_t = solution_to_sympy(prefix_sol_int[1:-1])\n",
    "        x_t_model, y_t_model = solution_to_sympy(beam_res)\n",
    "    except:\n",
    "        continue\n",
    "    \n",
    "    x_t_p = x_t.subs([(t, 1.33), (c, 1.33)])\n",
    "    y_t_p = y_t.subs([(t, 1.33), (c, 1.33)])\n",
    "    x_t_model_p = x_t_model.subs([(t, 1.33), (c, 1.33)])\n",
    "    y_t_model_p = y_t_model.subs([(t, 1.33), (c, 1.33)])\n",
    "    \n",
    "    if x_t_p.equals(x_t_model_p) and y_t_p.equals(y_t_model_p):\n",
    "        count_right_solutions += 1"
   ]
  },
  {
   "cell_type": "code",
   "execution_count": 23,
   "id": "101ac5b2-089c-4135-b832-2369da7fd297",
   "metadata": {},
   "outputs": [
    {
     "name": "stdout",
     "output_type": "stream",
     "text": [
      "Accuracy:  0.52\n"
     ]
    }
   ],
   "source": [
    "print(\"Accuracy: \",  count_right_solutions/500)"
   ]
  },
  {
   "cell_type": "markdown",
   "id": "788d2281-9ee7-4fd2-afae-e9b78bf16b34",
   "metadata": {},
   "source": [
    "## Пример решения дифференциального уравнения"
   ]
  },
  {
   "cell_type": "markdown",
   "id": "29132926-6c7c-4dab-9232-ec7e4f2371af",
   "metadata": {},
   "source": [
    "Попробуем решить ДУ Лагранжа (здесь t обозначает y'):"
   ]
  },
  {
   "cell_type": "code",
   "execution_count": 93,
   "id": "ea771709-fc78-46e1-9142-f72accfd6ac1",
   "metadata": {},
   "outputs": [],
   "source": [
    "infix_eq = 't + ln(t)+y'"
   ]
  },
  {
   "cell_type": "code",
   "execution_count": 94,
   "id": "ed133e4b-141b-4d2b-92ab-6d87be0b408c",
   "metadata": {},
   "outputs": [],
   "source": [
    "sympy_eq, id_eq = infix_eq_to_prefix_id(infix_eq)"
   ]
  },
  {
   "cell_type": "markdown",
   "id": "06b6df87-263b-4316-998b-aae369425205",
   "metadata": {},
   "source": [
    "\"Решаем\" ДУ с помощью модели:"
   ]
  },
  {
   "cell_type": "code",
   "execution_count": 95,
   "id": "51d9bc43-8bb8-4660-91fc-9f758bd03b02",
   "metadata": {},
   "outputs": [],
   "source": [
    "beam_best_res, hyps, _= evaluator.beam_decode(id_eq, beam_size=10, alpha=0.5)"
   ]
  },
  {
   "cell_type": "markdown",
   "id": "6cf843dc-45fb-4093-858b-8f369d09f290",
   "metadata": {},
   "source": [
    "Исходное уравнение:"
   ]
  },
  {
   "cell_type": "code",
   "execution_count": 96,
   "id": "4a617d67-a0ad-4ea7-8e5d-fab42b262dab",
   "metadata": {},
   "outputs": [
    {
     "data": {
      "text/latex": [
       "$\\displaystyle t + y + \\log{\\left(t \\right)}$"
      ],
      "text/plain": [
       "t + y + log(t)"
      ]
     },
     "execution_count": 96,
     "metadata": {},
     "output_type": "execute_result"
    }
   ],
   "source": [
    "sympy_eq"
   ]
  },
  {
   "cell_type": "markdown",
   "id": "a3de301e-3fb4-4a0d-bd91-0d10c172985f",
   "metadata": {},
   "source": [
    "Полученное решение:"
   ]
  },
  {
   "cell_type": "code",
   "execution_count": 97,
   "id": "2d3fec42-be92-44fd-97bf-a2dd7c4bbcd8",
   "metadata": {},
   "outputs": [],
   "source": [
    "x_t, y_t = solution_to_sympy(hyps[0])"
   ]
  },
  {
   "cell_type": "code",
   "execution_count": 98,
   "id": "8349f91d-bfba-4e60-a057-5bdf6018ea79",
   "metadata": {},
   "outputs": [
    {
     "data": {
      "text/latex": [
       "$\\displaystyle C_{1} - \\log{\\left(t \\right)} + \\frac{1}{t}$"
      ],
      "text/plain": [
       "C1 - log(t) + 1/t"
      ]
     },
     "execution_count": 98,
     "metadata": {},
     "output_type": "execute_result"
    }
   ],
   "source": [
    "x_t"
   ]
  },
  {
   "cell_type": "code",
   "execution_count": 99,
   "id": "7c51fea2-54ce-4351-bfe2-3f6e8106dddc",
   "metadata": {},
   "outputs": [
    {
     "data": {
      "text/latex": [
       "$\\displaystyle - t - \\log{\\left(t \\right)}$"
      ],
      "text/plain": [
       "-t - log(t)"
      ]
     },
     "execution_count": 99,
     "metadata": {},
     "output_type": "execute_result"
    }
   ],
   "source": [
    "y_t"
   ]
  },
  {
   "cell_type": "markdown",
   "id": "9f9bd4fa-4815-4021-9635-cfe3e7e01398",
   "metadata": {},
   "source": [
    "Проверим правильностьполученного решения подстановкой его в исходное уравнение:"
   ]
  },
  {
   "cell_type": "code",
   "execution_count": 100,
   "id": "73bacbd3-745b-4ec6-9d07-c45a27409511",
   "metadata": {},
   "outputs": [
    {
     "data": {
      "text/latex": [
       "$\\displaystyle 0$"
      ],
      "text/plain": [
       "0"
      ]
     },
     "execution_count": 100,
     "metadata": {},
     "output_type": "execute_result"
    }
   ],
   "source": [
    "sp.simplify(sympy_eq.subs(x, x_t).subs(y, y_t))"
   ]
  }
 ],
 "metadata": {
  "kernelspec": {
   "display_name": "Python 3 (ipykernel)",
   "language": "python",
   "name": "python3"
  },
  "language_info": {
   "codemirror_mode": {
    "name": "ipython",
    "version": 3
   },
   "file_extension": ".py",
   "mimetype": "text/x-python",
   "name": "python",
   "nbconvert_exporter": "python",
   "pygments_lexer": "ipython3",
   "version": "3.11.5"
  }
 },
 "nbformat": 4,
 "nbformat_minor": 5
}
