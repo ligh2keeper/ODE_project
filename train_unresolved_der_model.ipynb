{
 "cells": [
  {
   "cell_type": "code",
   "execution_count": 2,
   "id": "282cdee0",
   "metadata": {
    "execution": {
     "iopub.execute_input": "2023-10-03T22:47:06.179075Z",
     "iopub.status.busy": "2023-10-03T22:47:06.178764Z",
     "iopub.status.idle": "2023-10-03T22:47:06.184170Z",
     "shell.execute_reply": "2023-10-03T22:47:06.183102Z",
     "shell.execute_reply.started": "2023-10-03T22:47:06.179050Z"
    }
   },
   "outputs": [],
   "source": [
    "import sys\n",
    "sys.path.append('/kaggle/input/ode1-task/')"
   ]
  },
  {
   "cell_type": "code",
   "execution_count": 3,
   "id": "58b125b2",
   "metadata": {
    "execution": {
     "iopub.execute_input": "2023-10-03T22:47:58.754390Z",
     "iopub.status.busy": "2023-10-03T22:47:58.754046Z",
     "iopub.status.idle": "2023-10-03T22:48:01.483680Z",
     "shell.execute_reply": "2023-10-03T22:48:01.482705Z",
     "shell.execute_reply.started": "2023-10-03T22:47:58.754362Z"
    }
   },
   "outputs": [],
   "source": [
    "from torch.utils.data import DataLoader\n",
    "from dataset import DiffeqDataset\n",
    "from model import *\n",
    "import torch\n",
    "import pickle\n",
    "from IPython.display import clear_output\n",
    "import time\n",
    "from tqdm import trange, tqdm\n",
    "import numpy as np\n",
    "import matplotlib.pyplot as plt\n",
    "import torch.nn as nn"
   ]
  },
  {
   "cell_type": "code",
   "execution_count": 28,
   "id": "8b213faf",
   "metadata": {
    "execution": {
     "iopub.execute_input": "2023-10-03T23:06:09.747524Z",
     "iopub.status.busy": "2023-10-03T23:06:09.747159Z",
     "iopub.status.idle": "2023-10-03T23:06:09.752532Z",
     "shell.execute_reply": "2023-10-03T23:06:09.751543Z",
     "shell.execute_reply.started": "2023-10-03T23:06:09.747496Z"
    }
   },
   "outputs": [],
   "source": [
    "def create_data_iterator(train, batch_size, path):\n",
    "       \n",
    "        dataset = DiffeqDataset(train, batch_size, path)\n",
    "    \n",
    "        return DataLoader(dataset,\n",
    "                          batch_size=batch_size,\n",
    "                          shuffle=True,\n",
    "                          collate_fn=dataset.collate_fn\n",
    "        )"
   ]
  },
  {
   "cell_type": "code",
   "execution_count": 5,
   "id": "76f8ff80",
   "metadata": {
    "execution": {
     "iopub.execute_input": "2023-10-03T22:48:11.931644Z",
     "iopub.status.busy": "2023-10-03T22:48:11.931316Z",
     "iopub.status.idle": "2023-10-03T22:48:11.939165Z",
     "shell.execute_reply": "2023-10-03T22:48:11.938129Z",
     "shell.execute_reply.started": "2023-10-03T22:48:11.931619Z"
    }
   },
   "outputs": [],
   "source": [
    "def make_model(device, vocab_size, pad_idx, N=6, \n",
    "               d_model=512, d_ff=2048, h=8, dropout=0.1):\n",
    "    c = copy.deepcopy\n",
    "    attn = MultiHeadAttention(h, d_model, dropout, device)\n",
    "    ff = PositionwiseFeedForward(d_model, d_ff, dropout)\n",
    "    position = PositionalEncoding(d_model, dropout)\n",
    "    emb = nn.Sequential(Embeddings(d_model, vocab_size, device), position)\n",
    "    model = Seq2Seq(\n",
    "        Encoder(EncoderLayer(d_model, c(attn), c(ff), dropout), N),\n",
    "        Decoder(d_model, vocab_size, DecoderLayer(d_model, c(attn), c(attn), c(ff), dropout), N),\n",
    "        emb, \n",
    "        emb,\n",
    "        pad_idx,\n",
    "        device\n",
    "    )\n",
    "    \n",
    "    for p in model.parameters():\n",
    "        if p.dim() > 1:\n",
    "            nn.init.xavier_uniform_(p)\n",
    "    return model"
   ]
  },
  {
   "cell_type": "code",
   "execution_count": 6,
   "id": "b0ea6031",
   "metadata": {
    "execution": {
     "iopub.execute_input": "2023-10-03T22:48:17.189421Z",
     "iopub.status.busy": "2023-10-03T22:48:17.188980Z",
     "iopub.status.idle": "2023-10-03T22:48:17.230878Z",
     "shell.execute_reply": "2023-10-03T22:48:17.229755Z",
     "shell.execute_reply.started": "2023-10-03T22:48:17.189383Z"
    }
   },
   "outputs": [
    {
     "data": {
      "text/plain": [
       "device(type='cuda')"
      ]
     },
     "execution_count": 6,
     "metadata": {},
     "output_type": "execute_result"
    }
   ],
   "source": [
    "DEVICE = torch.device('cuda' if torch.cuda.is_available() else 'cpu')\n",
    "DEVICE"
   ]
  },
  {
   "cell_type": "code",
   "execution_count": 7,
   "id": "9de7e0c5",
   "metadata": {
    "execution": {
     "iopub.execute_input": "2023-10-03T22:48:20.848776Z",
     "iopub.status.busy": "2023-10-03T22:48:20.848440Z",
     "iopub.status.idle": "2023-10-03T22:48:20.853470Z",
     "shell.execute_reply": "2023-10-03T22:48:20.852516Z",
     "shell.execute_reply.started": "2023-10-03T22:48:20.848750Z"
    }
   },
   "outputs": [],
   "source": [
    "DATA_PATH = '/kaggle/input/unresolved-eq-dataset'"
   ]
  },
  {
   "cell_type": "code",
   "execution_count": 8,
   "id": "ffd1052a",
   "metadata": {
    "execution": {
     "iopub.execute_input": "2023-10-03T22:48:23.714188Z",
     "iopub.status.busy": "2023-10-03T22:48:23.713867Z",
     "iopub.status.idle": "2023-10-03T22:48:23.728808Z",
     "shell.execute_reply": "2023-10-03T22:48:23.728040Z",
     "shell.execute_reply.started": "2023-10-03T22:48:23.714164Z"
    }
   },
   "outputs": [],
   "source": [
    "with open(DATA_PATH + '/vocabulary', \"rb\") as f:\n",
    "    vocab = pickle.load(f)\n",
    "    token2id = vocab['token2id']\n",
    "    id2token = vocab['id2token']"
   ]
  },
  {
   "cell_type": "code",
   "execution_count": 9,
   "id": "0e9f9d72",
   "metadata": {
    "execution": {
     "iopub.execute_input": "2023-10-03T22:48:29.421044Z",
     "iopub.status.busy": "2023-10-03T22:48:29.420717Z",
     "iopub.status.idle": "2023-10-03T22:48:29.426236Z",
     "shell.execute_reply": "2023-10-03T22:48:29.425274Z",
     "shell.execute_reply.started": "2023-10-03T22:48:29.421019Z"
    }
   },
   "outputs": [],
   "source": [
    "VOCAB_SIZE = len(token2id)\n",
    "N_LAYERS = 6\n",
    "D_MODEL = 256\n",
    "D_FF = 1024\n",
    "N_HEADS = 8\n",
    "DROPOUT = 0.1\n",
    "PAD_IDX = token2id['<pad>']\n",
    "BATCH_SIZE = 64"
   ]
  },
  {
   "cell_type": "code",
   "execution_count": 30,
   "id": "9ca32ac1",
   "metadata": {
    "execution": {
     "iopub.execute_input": "2023-10-03T23:06:33.514050Z",
     "iopub.status.busy": "2023-10-03T23:06:33.513721Z",
     "iopub.status.idle": "2023-10-03T23:06:35.779059Z",
     "shell.execute_reply": "2023-10-03T23:06:35.778041Z",
     "shell.execute_reply.started": "2023-10-03T23:06:33.514024Z"
    }
   },
   "outputs": [],
   "source": [
    "train_iterator = create_data_iterator(train=True, batch_size=BATCH_SIZE, path=DATA_PATH)\n",
    "test_iterator = create_data_iterator(train=False, batch_size=BATCH_SIZE, path=DATA_PATH)"
   ]
  },
  {
   "cell_type": "code",
   "execution_count": 31,
   "id": "75a5056d",
   "metadata": {
    "execution": {
     "iopub.execute_input": "2023-10-03T23:06:37.031124Z",
     "iopub.status.busy": "2023-10-03T23:06:37.030806Z",
     "iopub.status.idle": "2023-10-03T23:06:37.242820Z",
     "shell.execute_reply": "2023-10-03T23:06:37.241896Z",
     "shell.execute_reply.started": "2023-10-03T23:06:37.031099Z"
    }
   },
   "outputs": [],
   "source": [
    "model = make_model(DEVICE, VOCAB_SIZE, PAD_IDX, N_LAYERS, \n",
    "               D_MODEL, D_FF, N_HEADS, DROPOUT).to(DEVICE)"
   ]
  },
  {
   "cell_type": "code",
   "execution_count": 32,
   "id": "4af142b3",
   "metadata": {
    "execution": {
     "iopub.execute_input": "2023-10-03T23:06:41.638251Z",
     "iopub.status.busy": "2023-10-03T23:06:41.637915Z",
     "iopub.status.idle": "2023-10-03T23:06:41.645840Z",
     "shell.execute_reply": "2023-10-03T23:06:41.644753Z",
     "shell.execute_reply.started": "2023-10-03T23:06:41.638212Z"
    }
   },
   "outputs": [
    {
     "name": "stdout",
     "output_type": "stream",
     "text": [
      "Total params:  11092543\n"
     ]
    }
   ],
   "source": [
    "print('Total params: ', sum(p.numel() for p in model.parameters() if p.requires_grad))"
   ]
  },
  {
   "cell_type": "code",
   "execution_count": 13,
   "id": "f3eb9ad2",
   "metadata": {
    "execution": {
     "iopub.execute_input": "2023-10-03T22:50:35.209902Z",
     "iopub.status.busy": "2023-10-03T22:50:35.209576Z",
     "iopub.status.idle": "2023-10-03T22:50:35.216787Z",
     "shell.execute_reply": "2023-10-03T22:50:35.215859Z",
     "shell.execute_reply.started": "2023-10-03T22:50:35.209878Z"
    }
   },
   "outputs": [],
   "source": [
    "class NoamOpt:\n",
    "    def __init__(self, model_size, factor, warmup, optimizer):\n",
    "        self.optimizer = optimizer\n",
    "        self._step = 0\n",
    "        self.warmup = warmup\n",
    "        self.factor = factor\n",
    "        self.model_size = model_size\n",
    "        self._rate = 0\n",
    "        \n",
    "    def step(self):\n",
    "        self._step += 1\n",
    "        rate = self.rate()\n",
    "        for p in self.optimizer.param_groups:\n",
    "            p['lr'] = rate\n",
    "        self._rate = rate\n",
    "        self.optimizer.step()\n",
    "        \n",
    "    def rate(self, step = None):\n",
    "        if step is None:\n",
    "            step = self._step\n",
    "        return self.factor * \\\n",
    "            (self.model_size ** (-0.5) *\n",
    "            min(step ** (-0.5), step * self.warmup ** (-1.5)))"
   ]
  },
  {
   "cell_type": "code",
   "execution_count": 14,
   "id": "23bc4af3",
   "metadata": {
    "execution": {
     "iopub.execute_input": "2023-10-03T22:51:28.599002Z",
     "iopub.status.busy": "2023-10-03T22:51:28.598145Z",
     "iopub.status.idle": "2023-10-03T22:51:28.603904Z",
     "shell.execute_reply": "2023-10-03T22:51:28.602948Z",
     "shell.execute_reply.started": "2023-10-03T22:51:28.598973Z"
    }
   },
   "outputs": [],
   "source": [
    "def get_opt(model):\n",
    "    return NoamOpt(model.src_embed[0].d_model, 1, 2000,\n",
    "            torch.optim.Adam(model.parameters(), lr=0, betas=(0.9, 0.98), eps=1e-9))"
   ]
  },
  {
   "cell_type": "code",
   "execution_count": 33,
   "id": "810d4fe3",
   "metadata": {
    "execution": {
     "iopub.execute_input": "2023-10-03T23:06:46.977330Z",
     "iopub.status.busy": "2023-10-03T23:06:46.976864Z",
     "iopub.status.idle": "2023-10-03T23:06:46.987578Z",
     "shell.execute_reply": "2023-10-03T23:06:46.986334Z",
     "shell.execute_reply.started": "2023-10-03T23:06:46.977291Z"
    }
   },
   "outputs": [],
   "source": [
    "LEARNING_RATE = 2e-4\n",
    "#optimizer = torch.optim.Adam(model.parameters(), lr=LEARNING_RATE)\n",
    "optimizer = get_opt(model)"
   ]
  },
  {
   "cell_type": "code",
   "execution_count": 34,
   "id": "466cedd8",
   "metadata": {
    "execution": {
     "iopub.execute_input": "2023-10-03T23:06:49.792997Z",
     "iopub.status.busy": "2023-10-03T23:06:49.792637Z",
     "iopub.status.idle": "2023-10-03T23:06:49.798309Z",
     "shell.execute_reply": "2023-10-03T23:06:49.796966Z",
     "shell.execute_reply.started": "2023-10-03T23:06:49.792969Z"
    }
   },
   "outputs": [],
   "source": [
    "criterion = nn.CrossEntropyLoss(ignore_index=PAD_IDX)"
   ]
  },
  {
   "cell_type": "code",
   "execution_count": 35,
   "id": "ca7524af",
   "metadata": {
    "execution": {
     "iopub.execute_input": "2023-10-03T23:06:52.885260Z",
     "iopub.status.busy": "2023-10-03T23:06:52.884922Z",
     "iopub.status.idle": "2023-10-03T23:06:52.892073Z",
     "shell.execute_reply": "2023-10-03T23:06:52.891173Z",
     "shell.execute_reply.started": "2023-10-03T23:06:52.885206Z"
    }
   },
   "outputs": [],
   "source": [
    "def train(model, iterator, optimizer, criterion, clip):\n",
    "    model.train()\n",
    "    num_batches = len(iterator)\n",
    "    epoch_loss = 0\n",
    "    for batch, (xx, yy) in tqdm(enumerate(iterator)):\n",
    "        src, trg = xx.to(DEVICE), yy.to(DEVICE)\n",
    "        optimizer.optimizer.zero_grad()\n",
    "        output = model(src, trg[:,:-1])\n",
    "        output_dim = output.shape[-1]\n",
    "        output = output.contiguous().view(-1, output_dim)\n",
    "        trg = trg[:,1:].contiguous().view(-1)\n",
    "        loss = criterion(output, trg)\n",
    "        loss.backward()\n",
    "        torch.nn.utils.clip_grad_norm_(model.parameters(), clip)\n",
    "        optimizer.step()\n",
    "        if batch % interval == 0:\n",
    "            t = epoch + (batch + 1)/num_batches\n",
    "            train_ts.append(t)\n",
    "            train_loss.append(loss.item())\n",
    "            show_progress(t)"
   ]
  },
  {
   "cell_type": "code",
   "execution_count": 36,
   "id": "731ca813",
   "metadata": {
    "execution": {
     "iopub.execute_input": "2023-10-03T23:06:55.857929Z",
     "iopub.status.busy": "2023-10-03T23:06:55.857575Z",
     "iopub.status.idle": "2023-10-03T23:06:55.864701Z",
     "shell.execute_reply": "2023-10-03T23:06:55.863411Z",
     "shell.execute_reply.started": "2023-10-03T23:06:55.857903Z"
    }
   },
   "outputs": [],
   "source": [
    "def evaluate(model, iterator, criterion):\n",
    "    model.eval()\n",
    "    num_batches = len(iterator)\n",
    "    test_loss = 0\n",
    "    with torch.no_grad():\n",
    "        for xx, yy in tqdm(iterator):\n",
    "            src, trg = xx.to(DEVICE), yy.to(DEVICE)\n",
    "            output = model(src, trg[:,:-1])\n",
    "            output_dim = output.shape[-1]\n",
    "            output = output.contiguous().view(-1, output_dim)\n",
    "            trg = trg[:,1:].contiguous().view(-1)\n",
    "            loss = criterion(output, trg)\n",
    "            test_loss += loss.item()\n",
    "    test_loss /= num_batches\n",
    "    val_ts.append(epoch+1)\n",
    "    val_loss.append(test_loss)\n",
    "    show_progress(epoch+1)"
   ]
  },
  {
   "cell_type": "code",
   "execution_count": 24,
   "id": "476bb0f8",
   "metadata": {
    "execution": {
     "iopub.execute_input": "2023-10-03T22:53:16.317402Z",
     "iopub.status.busy": "2023-10-03T22:53:16.317066Z",
     "iopub.status.idle": "2023-10-03T22:53:16.322762Z",
     "shell.execute_reply": "2023-10-03T22:53:16.321823Z",
     "shell.execute_reply.started": "2023-10-03T22:53:16.317375Z"
    }
   },
   "outputs": [],
   "source": [
    "def show_progress(t):\n",
    "    clear_output(wait=True)\n",
    "    fig = plt.figure(figsize=(10, 6))\n",
    "    plt.title(f'Epoch {t:3.3f}', fontsize=16)\n",
    "    plt.xlabel('time (epochs)')\n",
    "    plt.ylabel('loss')\n",
    "    plt.plot(train_ts, train_loss, c='darkblue', lw=3)\n",
    "    plt.plot(val_ts, val_loss, c='green', marker='o', lw=5)\n",
    "    plt.show() "
   ]
  },
  {
   "cell_type": "code",
   "execution_count": 37,
   "id": "e4757e3b",
   "metadata": {
    "execution": {
     "iopub.execute_input": "2023-10-03T23:06:59.556261Z",
     "iopub.status.busy": "2023-10-03T23:06:59.555915Z",
     "iopub.status.idle": "2023-10-03T23:06:59.561613Z",
     "shell.execute_reply": "2023-10-03T23:06:59.560205Z",
     "shell.execute_reply.started": "2023-10-03T23:06:59.556211Z"
    }
   },
   "outputs": [],
   "source": [
    "N_EPOCHS = 10\n",
    "interval = 100\n",
    "train_ts, train_loss = [], []\n",
    "val_ts, val_loss = [], []\n",
    "best_val_loss = float('inf')\n",
    "\n",
    "CLIP = 1"
   ]
  },
  {
   "cell_type": "code",
   "execution_count": null,
   "id": "0a701ac2",
   "metadata": {
    "execution": {
     "iopub.execute_input": "2023-10-03T23:07:03.100137Z",
     "iopub.status.busy": "2023-10-03T23:07:03.099791Z"
    }
   },
   "outputs": [
    {
     "data": {
      "image/png": "[encoded data removed]",
      "text/plain": [
       "<Figure size 1000x600 with 1 Axes>"
      ]
     },
     "metadata": {},
     "output_type": "display_data"
    },
    {
     "name": "stderr",
     "output_type": "stream",
     "text": [
      "192it [01:06,  2.86it/s]"
     ]
    }
   ],
   "source": [
    "for epoch in range(N_EPOCHS):\n",
    "\n",
    "    start_time = time.time()\n",
    "    train(model, train_iterator, optimizer, criterion, CLIP)\n",
    "    evaluate(model, test_iterator, criterion)\n",
    "    end_time = time.time()\n",
    "    if val_loss[-1] < best_val_loss:\n",
    "        best_val_loss = val_loss[-1]\n",
    "        torch.save(model.state_dict(), f'transformer_{epoch+1}.pt')"
   ]
  }
 ],
 "metadata": {
  "kernelspec": {
   "display_name": "Python 3 (ipykernel)",
   "language": "python",
   "name": "python3"
  },
  "language_info": {
   "codemirror_mode": {
    "name": "ipython",
    "version": 3
   },
   "file_extension": ".py",
   "mimetype": "text/x-python",
   "name": "python",
   "nbconvert_exporter": "python",
   "pygments_lexer": "ipython3",
   "version": "3.11.5"
  }
 },
 "nbformat": 4,
 "nbformat_minor": 5
}
