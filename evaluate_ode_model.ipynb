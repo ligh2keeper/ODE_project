{
 "cells": [
  {
   "cell_type": "code",
   "execution_count": 17,
   "id": "2af29809-1aa5-43ef-babb-092ca91dc1b2",
   "metadata": {},
   "outputs": [],
   "source": [
    "import pickle\n",
    "from src.expressions_generator import ExpressionGenerator\n",
    "from src.evaluate import make_model, Evaluator\n",
    "import torch\n",
    "from torch.utils.data import DataLoader\n",
    "from src.dataset import DiffeqDataset\n",
    "import sympy as sp\n",
    "import numpy as np\n",
    "from tqdm import tqdm"
   ]
  },
  {
   "cell_type": "code",
   "execution_count": null,
   "id": "e358f450-8c2a-4a2b-9c4f-9d0e7832b290",
   "metadata": {},
   "outputs": [],
   "source": [
    "def solution_to_sympy(prefix_ids):\n",
    "    prefix_sol = [id2token[i] for i in prefix_ids]\n",
    "    sympy_expr = gen.prefix_to_simpy(prefix_sol, has_y=True)\n",
    "    return sympy_expr"
   ]
  },
  {
   "cell_type": "code",
   "execution_count": null,
   "id": "d9037abb-1976-4cdf-92d8-4c01017e7e08",
   "metadata": {},
   "outputs": [],
   "source": [
    "def infix_eq_to_prefix_id(infix_expr):\n",
    "    sympy_expr = gen.infix_to_sympy(infix_expr)\n",
    "    prefix_expr = gen.sympy_to_prefix(sympy_expr)\n",
    "    prefix_expr = gen.replace_f_by_y(prefix_expr)\n",
    "    prefix_id = [token2id['<s>']] + [token2id[tok] for tok in prefix_expr] + [token2id['</s>']]\n",
    "    return sympy_expr, prefix_id"
   ]
  },
  {
   "cell_type": "code",
   "execution_count": null,
   "id": "955fc2ae-6647-4ebd-8266-b4f51070bbe3",
   "metadata": {},
   "outputs": [],
   "source": [
    "def create_data_iterator(train, batch_size, path):\n",
    "       \n",
    "        dataset = DiffeqDataset(train, batch_size, path)\n",
    "    \n",
    "        return DataLoader(dataset,\n",
    "                          batch_size=batch_size,\n",
    "                          shuffle=False,\n",
    "                          collate_fn=dataset.collate_fn\n",
    "        )"
   ]
  },
  {
   "cell_type": "markdown",
   "id": "fccb7835-2e94-43cf-bbae-f8661b256ea0",
   "metadata": {},
   "source": [
    "## Опредление качества обученной модели"
   ]
  },
  {
   "cell_type": "code",
   "execution_count": 19,
   "id": "b87f0bee-8259-446a-a250-c2fc2d6e863f",
   "metadata": {},
   "outputs": [
    {
     "data": {
      "text/plain": [
       "device(type='cpu')"
      ]
     },
     "execution_count": 19,
     "metadata": {},
     "output_type": "execute_result"
    }
   ],
   "source": [
    "DATA_PATH = '/home/ilia/diff_eq_project/ode1_dataset/'\n",
    "MODEL_PATH = '/home/ilia/diff_eq_project/ode_models/'\n",
    "\n",
    "with open(DATA_PATH + '/vocabulary', \"rb\") as f:\n",
    "    vocab = pickle.load(f)\n",
    "    token2id = vocab['token2id']\n",
    "    id2token = vocab['id2token']\n",
    "    \n",
    "VOCAB_SIZE = len(token2id)\n",
    "N_LAYERS = 6\n",
    "D_MODEL = 256\n",
    "D_FF = 1024\n",
    "N_HEADS = 8\n",
    "DROPOUT = 0.1\n",
    "PAD_IDX = token2id['<pad>']\n",
    "BATCH_SIZE = 64\n",
    "DEVICE = torch.device('cuda' if torch.cuda.is_available() else 'cpu')\n",
    "DEVICE"
   ]
  },
  {
   "cell_type": "markdown",
   "id": "dfb41366-993f-4902-9974-d1068244a46e",
   "metadata": {},
   "source": [
    "Загружаем лучшую обученную модель:"
   ]
  },
  {
   "cell_type": "code",
   "execution_count": 20,
   "id": "addf596e-692d-46e2-8eae-3f17d4f98718",
   "metadata": {},
   "outputs": [],
   "source": [
    "model = make_model(DEVICE, VOCAB_SIZE, PAD_IDX, N_LAYERS, \n",
    "               D_MODEL, D_FF, N_HEADS, DROPOUT).to(DEVICE)\n",
    "model.load_state_dict(torch.load(MODEL_PATH + 'transformer_9.pt', map_location=torch.device('cpu')))\n",
    "model.eval();"
   ]
  },
  {
   "cell_type": "code",
   "execution_count": 21,
   "id": "dc286ff0-06f4-41a4-8503-8fa2ba5fa029",
   "metadata": {},
   "outputs": [],
   "source": [
    "gen = ExpressionGenerator()\n",
    "evaluator = Evaluator(model, DEVICE, vocab)"
   ]
  },
  {
   "cell_type": "code",
   "execution_count": 24,
   "id": "acebdd6e-5200-4897-9fe4-df5830415e8e",
   "metadata": {},
   "outputs": [],
   "source": [
    "test_dataset = DiffeqDataset(train=False, batch_size=64, path=DATA_PATH)"
   ]
  },
  {
   "cell_type": "code",
   "execution_count": 25,
   "id": "810d632b-1c6a-4c40-904a-cf6ed17a5d0a",
   "metadata": {},
   "outputs": [],
   "source": [
    "x = gen.vars['x']\n",
    "y = gen.vars['y']\n",
    "z = gen.vars['z']\n",
    "f = gen.functions['f']\n",
    "c = gen.coef['C1']"
   ]
  },
  {
   "cell_type": "markdown",
   "id": "d0f468eb-d550-43ef-b0cb-c860d866604d",
   "metadata": {},
   "source": [
    "Выберем некоторое количество уравнений из тестового датасета и посчитаем долю правильно решенных моделью уравнений:"
   ]
  },
  {
   "cell_type": "code",
   "execution_count": 29,
   "id": "6d453f21-cb87-4c09-bc97-77ba132ddad6",
   "metadata": {},
   "outputs": [],
   "source": [
    "check_sample = np.random.choice(len(test_dataset), size=500, replace=False)"
   ]
  },
  {
   "cell_type": "code",
   "execution_count": 30,
   "id": "9d066aba-77a5-40dd-aa14-048218d08521",
   "metadata": {},
   "outputs": [
    {
     "name": "stderr",
     "output_type": "stream",
     "text": [
      "100%|█████████████████████████████████████████████████████████████████████████████████████████████████████████████████████████████████████████████████████████████████████████████████████████████████████| 500/500 [10:56<00:00,  1.31s/it]\n"
     ]
    }
   ],
   "source": [
    "count_right_solutions = 0\n",
    "for i in tqdm(check_sample):\n",
    "    prefix_eq_int = [int(id_token) for id_token in test_dataset[i][0]]\n",
    "    prefix_sol_int = [int(id_token) for id_token in test_dataset[i][1]]\n",
    "    beam_res, _, _= evaluator.beam_decode(prefix_eq_int, beam_size=5, alpha=1)\n",
    "    sympy_sol = solution_to_sympy(prefix_sol_int[1:-1]).subs(f(x), y)\n",
    "    transformer_sol = solution_to_sympy(beam_res).subs(f(x), y)\n",
    "    transformer_sol_p = transformer_sol.subs([(x, 1.33), (y, 1.33), (c, 1.33)])\n",
    "    sympy_sol_p = sympy_sol.subs([(x, 1.33), (y, 1.33), (c, 1.33)])\n",
    "    if transformer_sol_p.equals(sympy_sol_p):\n",
    "        count_right_solutions += 1"
   ]
  },
  {
   "cell_type": "code",
   "execution_count": 31,
   "id": "3b696901-30b8-482b-8190-93786532bf72",
   "metadata": {},
   "outputs": [
    {
     "name": "stdout",
     "output_type": "stream",
     "text": [
      "Accuracy:  0.75\n"
     ]
    }
   ],
   "source": [
    "print(\"Accuracy: \",  count_right_solutions/500)"
   ]
  },
  {
   "cell_type": "markdown",
   "id": "5f8f745c-e11c-4f6f-89c7-1671cb5ce33e",
   "metadata": {},
   "source": [
    "## Пример решения дифференциального уравнения"
   ]
  },
  {
   "cell_type": "markdown",
   "id": "9bdbe378-28e4-46b7-87b8-418830791f0a",
   "metadata": {},
   "source": [
    "Задаём ДУ, которое хотим решить:"
   ]
  },
  {
   "cell_type": "code",
   "execution_count": 38,
   "id": "ea771709-fc78-46e1-9142-f72accfd6ac1",
   "metadata": {},
   "outputs": [],
   "source": [
    "infix_eq = 'Derivative(f(x), x) + sin(x)'"
   ]
  },
  {
   "cell_type": "markdown",
   "id": "2727c0ae-d45e-4f62-ba46-80c6ea42ed99",
   "metadata": {},
   "source": [
    "Переводим его в префиксную запись и токенизируем:"
   ]
  },
  {
   "cell_type": "code",
   "execution_count": 39,
   "id": "ed133e4b-141b-4d2b-92ab-6d87be0b408c",
   "metadata": {},
   "outputs": [],
   "source": [
    "sympy_eq, id_eq = infix_eq_to_prefix_id(infix_eq)"
   ]
  },
  {
   "cell_type": "markdown",
   "id": "4412e0a2-2a8b-4a5c-a14e-7e5dd1227bfd",
   "metadata": {},
   "source": [
    "\"Решаем\" ДУ с помощью модели:"
   ]
  },
  {
   "cell_type": "code",
   "execution_count": 46,
   "id": "51d9bc43-8bb8-4660-91fc-9f758bd03b02",
   "metadata": {},
   "outputs": [],
   "source": [
    "beam_best_res, hyps, hyps_probs = evaluator.beam_decode(id_eq, beam_size=5, alpha=0)"
   ]
  },
  {
   "cell_type": "markdown",
   "id": "1fc25d92-2a79-4f4b-957c-d1612dd43c8f",
   "metadata": {},
   "source": [
    "Исходное уравнение:"
   ]
  },
  {
   "cell_type": "code",
   "execution_count": 41,
   "id": "4a617d67-a0ad-4ea7-8e5d-fab42b262dab",
   "metadata": {},
   "outputs": [
    {
     "data": {
      "text/latex": [
       "$\\displaystyle \\sin{\\left(x \\right)} + \\frac{d}{d x} f{\\left(x \\right)}$"
      ],
      "text/plain": [
       "sin(x) + Derivative(f(x), x)"
      ]
     },
     "execution_count": 41,
     "metadata": {},
     "output_type": "execute_result"
    }
   ],
   "source": [
    "sympy_eq"
   ]
  },
  {
   "cell_type": "markdown",
   "id": "84b3f1db-dab8-415e-ab18-c3f3cc0162a8",
   "metadata": {},
   "source": [
    "Полученное моделью решение:"
   ]
  },
  {
   "cell_type": "code",
   "execution_count": 47,
   "id": "2d3fec42-be92-44fd-97bf-a2dd7c4bbcd8",
   "metadata": {},
   "outputs": [
    {
     "data": {
      "text/latex": [
       "$\\displaystyle C_{1} + f{\\left(x \\right)} - \\cos{\\left(x \\right)}$"
      ],
      "text/plain": [
       "C1 + f(x) - cos(x)"
      ]
     },
     "execution_count": 47,
     "metadata": {},
     "output_type": "execute_result"
    }
   ],
   "source": [
    "sol = solution_to_sympy(beam_best_res)\n",
    "sol"
   ]
  }
 ],
 "metadata": {
  "kernelspec": {
   "display_name": "Python 3 (ipykernel)",
   "language": "python",
   "name": "python3"
  },
  "language_info": {
   "codemirror_mode": {
    "name": "ipython",
    "version": 3
   },
   "file_extension": ".py",
   "mimetype": "text/x-python",
   "name": "python",
   "nbconvert_exporter": "python",
   "pygments_lexer": "ipython3",
   "version": "3.11.5"
  }
 },
 "nbformat": 4,
 "nbformat_minor": 5
}
